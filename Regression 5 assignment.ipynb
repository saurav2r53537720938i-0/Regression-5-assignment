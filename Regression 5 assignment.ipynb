{
 "cells": [
  {
   "cell_type": "markdown",
   "id": "73e279c9-ac97-46f6-93c3-3930e5a5a2f6",
   "metadata": {},
   "source": [
    "Elastic Net Regression is a regularization technique that combines the penalties of both lasso(l1)and ridge(l2) regression methods.it is used to overcome the limitations of both techniques by balancing between them.In tradtional regression technique like Ordinary Least Square the model aims to minimize the sum of squared residual however it may lead to overfitting when dealing with high-dimensional data multicolinearity.Elastic net regression on the other hands adds both L1andL2 penalties to handle multicollinearity and perform feature slection simultaneously."
   ]
  },
  {
   "cell_type": "markdown",
   "id": "a7c262fd-da36-4b0a-a0ff-50b5c22a3642",
   "metadata": {},
   "source": [
    "Choosing the optimal value of the regularization parameter for Elastic Net regression involves a process called hyperparameter tuning this is typically done using technique like cross-validation here a genral apporach:\n",
    "1. Grid Search\n",
    "2. Cross -Validation\n",
    "3. Choose the Best\n",
    "4. Test Set Evaluation"
   ]
  },
  {
   "cell_type": "markdown",
   "id": "359b72e7-312f-48d1-b708-9f7a7d1a7a4b",
   "metadata": {},
   "source": [
    "Elastic Net regularization combines the penalties of both L1 and L2 ridge regularization here are the advantage and advantage:\n",
    "1. Variable Slection\n",
    "2. Reducing Overlifitting\n",
    "3. Handles Multicollinearity\n",
    "4. Robustness\n",
    "disadvantage:\n",
    "1. Complexity\n",
    "2. Less intuitive interpretation\n",
    "3. Not suitable for all situations\n",
    "4. Senstive to scalling"
   ]
  },
  {
   "cell_type": "markdown",
   "id": "6836f761-d343-40b0-8a4f-252fddefce26",
   "metadata": {},
   "source": [
    "Elastic Net regularization is commonly used in various machine learning and statistical modeling task\n",
    "1. Regression Analysis\n",
    "2. Feature Slection\n",
    "3. Predctive Modeling\n",
    "4. Bionformatics\n",
    "5. Financial Modeling\n",
    "6. Image orocessing\n",
    "7. Text Mining"
   ]
  },
  {
   "cell_type": "markdown",
   "id": "03e93e48-7d11-4d68-832d-d07998326c2d",
   "metadata": {},
   "source": [
    "Interpreting cofficent in elastic net regression is somewhat smilar to interpreting cofficent in other butt with some nuances due to the regularization process :\n",
    "1. Magntiude\n",
    "2. Sign\n",
    "3. Impact of Regularization\n",
    "4. Variable slection\n",
    "5. Comparison with unregularized cofficent"
   ]
  },
  {
   "cell_type": "markdown",
   "id": "2a4b5786-ab6f-4274-8ef8-f5dddd7525f0",
   "metadata": {},
   "source": [
    "Handling missing value when using elastic net regularization involves some preprocessing steps here how you can handle missing values:\n",
    "1. Imputation\n",
    "2. Meaningful Replacement\n",
    "3. Drop rows or coluumn\n",
    "4. Model based imputation\n",
    "5. elastic net with missing value"
   ]
  },
  {
   "cell_type": "markdown",
   "id": "ee514dc5-e5ea-470f-91b0-d028ad18bbf9",
   "metadata": {},
   "source": [
    "Usiing Elastic net regression for feature slection involves leaveraging its ablity to shrink cofficent towards zero \n",
    "effectively driving some cofficent to exactly zero therby slecting only the most relevant feature :\n",
    "1. Fit Elastic net model\n",
    "2. identify non-zero cofficent \n",
    "3. slect feature\n",
    "4. evaluate model performance\n",
    "5. Refinement"
   ]
  },
  {
   "cell_type": "code",
   "execution_count": null,
   "id": "1785dbdb-7967-4b2d-a8da-a287fd1fec76",
   "metadata": {},
   "outputs": [],
   "source": []
  }
 ],
 "metadata": {
  "kernelspec": {
   "display_name": "Python 3 (ipykernel)",
   "language": "python",
   "name": "python3"
  },
  "language_info": {
   "codemirror_mode": {
    "name": "ipython",
    "version": 3
   },
   "file_extension": ".py",
   "mimetype": "text/x-python",
   "name": "python",
   "nbconvert_exporter": "python",
   "pygments_lexer": "ipython3",
   "version": "3.10.8"
  }
 },
 "nbformat": 4,
 "nbformat_minor": 5
}
